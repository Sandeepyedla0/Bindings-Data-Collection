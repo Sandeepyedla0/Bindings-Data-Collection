{
 "cells": [
  {
   "cell_type": "code",
   "execution_count": 21,
   "id": "b29acf03-cea5-416d-bd4c-2376b1ecb69c",
   "metadata": {},
   "outputs": [],
   "source": [
    "import pandas as pd"
   ]
  },
  {
   "cell_type": "code",
   "execution_count": 22,
   "id": "247b6273-b0bc-4c1e-b332-549b710de8f6",
   "metadata": {},
   "outputs": [],
   "source": [
    "df = pd.read_csv('meta_data.csv', names=['repo_owner_name', 'repo_name', 'repository_url', 'star_count', 'fork_count', 'pushedat', 'binding_file_path'])\n"
   ]
  },
  {
   "cell_type": "code",
   "execution_count": 23,
   "id": "7c11792f-b8ec-4a1c-972a-a8876ef595d8",
   "metadata": {},
   "outputs": [
    {
     "data": {
      "text/html": [
       "<div>\n",
       "<style scoped>\n",
       "    .dataframe tbody tr th:only-of-type {\n",
       "        vertical-align: middle;\n",
       "    }\n",
       "\n",
       "    .dataframe tbody tr th {\n",
       "        vertical-align: top;\n",
       "    }\n",
       "\n",
       "    .dataframe thead th {\n",
       "        text-align: right;\n",
       "    }\n",
       "</style>\n",
       "<table border=\"1\" class=\"dataframe\">\n",
       "  <thead>\n",
       "    <tr style=\"text-align: right;\">\n",
       "      <th></th>\n",
       "      <th>repo_owner_name</th>\n",
       "      <th>repo_name</th>\n",
       "      <th>repository_url</th>\n",
       "      <th>star_count</th>\n",
       "      <th>fork_count</th>\n",
       "      <th>pushedat</th>\n",
       "      <th>binding_file_path</th>\n",
       "    </tr>\n",
       "  </thead>\n",
       "  <tbody>\n",
       "    <tr>\n",
       "      <th>0</th>\n",
       "      <td>repo_owner_name</td>\n",
       "      <td>repo_name</td>\n",
       "      <td>repository_url</td>\n",
       "      <td>star_count</td>\n",
       "      <td>fork_count</td>\n",
       "      <td>pushedat</td>\n",
       "      <td>binding_file_path</td>\n",
       "    </tr>\n",
       "    <tr>\n",
       "      <th>1</th>\n",
       "      <td>google</td>\n",
       "      <td>mediapipe</td>\n",
       "      <td>https://github.com/google/mediapipe</td>\n",
       "      <td>23676</td>\n",
       "      <td>4583</td>\n",
       "      <td>2023-10-23T15:01:56Z</td>\n",
       "      <td>test_output/mediapipe/mediapipe/python/framewo...</td>\n",
       "    </tr>\n",
       "    <tr>\n",
       "      <th>2</th>\n",
       "      <td>Tencent</td>\n",
       "      <td>MMKV</td>\n",
       "      <td>https://github.com/Tencent/MMKV</td>\n",
       "      <td>16254</td>\n",
       "      <td>1761</td>\n",
       "      <td>2023-10-10T08:25:37Z</td>\n",
       "      <td>test_output/MMKV/POSIX/Python/libmmkv_python.cpp</td>\n",
       "    </tr>\n",
       "    <tr>\n",
       "      <th>3</th>\n",
       "      <td>davisking</td>\n",
       "      <td>dlib</td>\n",
       "      <td>https://github.com/davisking/dlib</td>\n",
       "      <td>12323</td>\n",
       "      <td>2802</td>\n",
       "      <td>2023-10-11T23:39:48Z</td>\n",
       "      <td>test_output/dlib/tools/python/src/dlib.cpp, te...</td>\n",
       "    </tr>\n",
       "    <tr>\n",
       "      <th>4</th>\n",
       "      <td>microsoft</td>\n",
       "      <td>onnxruntime</td>\n",
       "      <td>https://github.com/microsoft/onnxruntime</td>\n",
       "      <td>10707</td>\n",
       "      <td>2218</td>\n",
       "      <td>2023-10-23T14:05:20Z</td>\n",
       "      <td>test_output/onnxruntime/orttraining/orttrainin...</td>\n",
       "    </tr>\n",
       "  </tbody>\n",
       "</table>\n",
       "</div>"
      ],
      "text/plain": [
       "   repo_owner_name    repo_name                            repository_url  \\\n",
       "0  repo_owner_name    repo_name                            repository_url   \n",
       "1           google    mediapipe       https://github.com/google/mediapipe   \n",
       "2          Tencent         MMKV           https://github.com/Tencent/MMKV   \n",
       "3        davisking         dlib         https://github.com/davisking/dlib   \n",
       "4        microsoft  onnxruntime  https://github.com/microsoft/onnxruntime   \n",
       "\n",
       "   star_count  fork_count              pushedat  \\\n",
       "0  star_count  fork_count              pushedat   \n",
       "1       23676        4583  2023-10-23T15:01:56Z   \n",
       "2       16254        1761  2023-10-10T08:25:37Z   \n",
       "3       12323        2802  2023-10-11T23:39:48Z   \n",
       "4       10707        2218  2023-10-23T14:05:20Z   \n",
       "\n",
       "                                   binding_file_path  \n",
       "0                                  binding_file_path  \n",
       "1  test_output/mediapipe/mediapipe/python/framewo...  \n",
       "2   test_output/MMKV/POSIX/Python/libmmkv_python.cpp  \n",
       "3  test_output/dlib/tools/python/src/dlib.cpp, te...  \n",
       "4  test_output/onnxruntime/orttraining/orttrainin...  "
      ]
     },
     "execution_count": 23,
     "metadata": {},
     "output_type": "execute_result"
    }
   ],
   "source": [
    "# df = df.drop(df.columns[0], axis=1)\n",
    "df.head()"
   ]
  },
  {
   "cell_type": "code",
   "execution_count": 24,
   "id": "9f35c9e1-e7e1-43b2-86f4-f37c31a82dad",
   "metadata": {},
   "outputs": [
    {
     "data": {
      "text/plain": [
       "(138, 7)"
      ]
     },
     "execution_count": 24,
     "metadata": {},
     "output_type": "execute_result"
    }
   ],
   "source": [
    "df.shape"
   ]
  },
  {
   "cell_type": "code",
   "execution_count": 25,
   "id": "5d5fbe76-a038-4664-a28d-cbf2d6057a13",
   "metadata": {},
   "outputs": [],
   "source": [
    "df = df.drop_duplicates()"
   ]
  },
  {
   "cell_type": "code",
   "execution_count": 26,
   "id": "2d387224-b019-4e43-9fbc-e7352dad3483",
   "metadata": {},
   "outputs": [],
   "source": [
    "df.to_csv('meta_data.csv',index=False)"
   ]
  },
  {
   "cell_type": "code",
   "execution_count": 27,
   "id": "e95c953a-8f92-4271-8816-30563f80f75f",
   "metadata": {},
   "outputs": [],
   "source": [
    "df = pd.read_csv('meta_data.csv')"
   ]
  },
  {
   "cell_type": "code",
   "execution_count": 28,
   "id": "58b24077",
   "metadata": {},
   "outputs": [
    {
     "data": {
      "text/html": [
       "<div>\n",
       "<style scoped>\n",
       "    .dataframe tbody tr th:only-of-type {\n",
       "        vertical-align: middle;\n",
       "    }\n",
       "\n",
       "    .dataframe tbody tr th {\n",
       "        vertical-align: top;\n",
       "    }\n",
       "\n",
       "    .dataframe thead th {\n",
       "        text-align: right;\n",
       "    }\n",
       "</style>\n",
       "<table border=\"1\" class=\"dataframe\">\n",
       "  <thead>\n",
       "    <tr style=\"text-align: right;\">\n",
       "      <th></th>\n",
       "      <th>repo_owner_name</th>\n",
       "      <th>repo_name</th>\n",
       "      <th>repository_url</th>\n",
       "      <th>star_count</th>\n",
       "      <th>fork_count</th>\n",
       "      <th>pushedat</th>\n",
       "      <th>binding_file_path</th>\n",
       "    </tr>\n",
       "  </thead>\n",
       "  <tbody>\n",
       "    <tr>\n",
       "      <th>0</th>\n",
       "      <td>repo_owner_name</td>\n",
       "      <td>repo_name</td>\n",
       "      <td>repository_url</td>\n",
       "      <td>star_count</td>\n",
       "      <td>fork_count</td>\n",
       "      <td>pushedat</td>\n",
       "      <td>binding_file_path</td>\n",
       "    </tr>\n",
       "    <tr>\n",
       "      <th>1</th>\n",
       "      <td>google</td>\n",
       "      <td>mediapipe</td>\n",
       "      <td>https://github.com/google/mediapipe</td>\n",
       "      <td>23676</td>\n",
       "      <td>4583</td>\n",
       "      <td>2023-10-23T15:01:56Z</td>\n",
       "      <td>test_output/mediapipe/mediapipe/python/framewo...</td>\n",
       "    </tr>\n",
       "    <tr>\n",
       "      <th>2</th>\n",
       "      <td>Tencent</td>\n",
       "      <td>MMKV</td>\n",
       "      <td>https://github.com/Tencent/MMKV</td>\n",
       "      <td>16254</td>\n",
       "      <td>1761</td>\n",
       "      <td>2023-10-10T08:25:37Z</td>\n",
       "      <td>test_output/MMKV/POSIX/Python/libmmkv_python.cpp</td>\n",
       "    </tr>\n",
       "    <tr>\n",
       "      <th>3</th>\n",
       "      <td>davisking</td>\n",
       "      <td>dlib</td>\n",
       "      <td>https://github.com/davisking/dlib</td>\n",
       "      <td>12323</td>\n",
       "      <td>2802</td>\n",
       "      <td>2023-10-11T23:39:48Z</td>\n",
       "      <td>test_output/dlib/tools/python/src/dlib.cpp, te...</td>\n",
       "    </tr>\n",
       "    <tr>\n",
       "      <th>4</th>\n",
       "      <td>microsoft</td>\n",
       "      <td>onnxruntime</td>\n",
       "      <td>https://github.com/microsoft/onnxruntime</td>\n",
       "      <td>10707</td>\n",
       "      <td>2218</td>\n",
       "      <td>2023-10-23T14:05:20Z</td>\n",
       "      <td>test_output/onnxruntime/orttraining/orttrainin...</td>\n",
       "    </tr>\n",
       "  </tbody>\n",
       "</table>\n",
       "</div>"
      ],
      "text/plain": [
       "   repo_owner_name    repo_name                            repository_url  \\\n",
       "0  repo_owner_name    repo_name                            repository_url   \n",
       "1           google    mediapipe       https://github.com/google/mediapipe   \n",
       "2          Tencent         MMKV           https://github.com/Tencent/MMKV   \n",
       "3        davisking         dlib         https://github.com/davisking/dlib   \n",
       "4        microsoft  onnxruntime  https://github.com/microsoft/onnxruntime   \n",
       "\n",
       "   star_count  fork_count              pushedat  \\\n",
       "0  star_count  fork_count              pushedat   \n",
       "1       23676        4583  2023-10-23T15:01:56Z   \n",
       "2       16254        1761  2023-10-10T08:25:37Z   \n",
       "3       12323        2802  2023-10-11T23:39:48Z   \n",
       "4       10707        2218  2023-10-23T14:05:20Z   \n",
       "\n",
       "                                   binding_file_path  \n",
       "0                                  binding_file_path  \n",
       "1  test_output/mediapipe/mediapipe/python/framewo...  \n",
       "2   test_output/MMKV/POSIX/Python/libmmkv_python.cpp  \n",
       "3  test_output/dlib/tools/python/src/dlib.cpp, te...  \n",
       "4  test_output/onnxruntime/orttraining/orttrainin...  "
      ]
     },
     "execution_count": 28,
     "metadata": {},
     "output_type": "execute_result"
    }
   ],
   "source": [
    "df.head()"
   ]
  },
  {
   "cell_type": "code",
   "execution_count": 20,
   "id": "c3dd4aa0-f8c9-410d-8019-15cf37572614",
   "metadata": {},
   "outputs": [],
   "source": [
    "def remove_duplicates_inplace(file_path):\n",
    "    # Create a set to store unique lines.\n",
    "    unique_lines = set()\n",
    "    \n",
    "    # Read the content from the original file and count/remove duplicates.\n",
    "    with open(file_path, 'r', encoding='utf-8') as file:\n",
    "        lines = file.readlines()\n",
    "    \n",
    "    # Open the file for writing, which will overwrite the original file.\n",
    "    with open(file_path, 'w', encoding='utf-8') as file:\n",
    "        for line in lines:\n",
    "            line = line.strip()  # Remove leading/trailing whitespace and line breaks.\n",
    "            if line not in unique_lines:\n",
    "                unique_lines.add(line)\n",
    "                file.write(line + '\\n')  # Add a line break after each line.\n",
    "\n",
    "# Replace 'your_file.txt' with the name of your text file.\n",
    "remove_duplicates_inplace('pybind_visited_repos.txt')\n",
    "remove_duplicates_inplace('nonpybind_visited_repositories.txt')"
   ]
  },
  {
   "cell_type": "code",
   "execution_count": null,
   "id": "dd3141bd",
   "metadata": {},
   "outputs": [],
   "source": []
  },
  {
   "cell_type": "code",
   "execution_count": 33,
   "id": "70415ad0-751e-4217-9e70-08788a7a7033",
   "metadata": {},
   "outputs": [
    {
     "name": "stdout",
     "output_type": "stream",
     "text": [
      "166\n"
     ]
    }
   ],
   "source": [
    "import os\n",
    "\n",
    "def count_immediate_folders(directory):\n",
    "    folders = 0\n",
    "    for item in os.listdir(directory):\n",
    "        item_path = os.path.join(directory, item)\n",
    "        if os.path.isdir(item_path):\n",
    "            folders += 1\n",
    "    return folders\n",
    "\n",
    "# Replace 'test_output' with the path to the directory you want to check.\n",
    "print(count_immediate_folders('test_output'))\n"
   ]
  },
  {
   "cell_type": "code",
   "execution_count": null,
   "id": "10571095-35bf-43c1-bc9f-9ec65896cf20",
   "metadata": {},
   "outputs": [],
   "source": []
  },
  {
   "cell_type": "code",
   "execution_count": null,
   "id": "647d8f5a",
   "metadata": {},
   "outputs": [],
   "source": []
  }
 ],
 "metadata": {
  "kernelspec": {
   "display_name": "Python Data Science 0.1.8",
   "language": "python",
   "name": "python-data-science"
  },
  "language_info": {
   "codemirror_mode": {
    "name": "ipython",
    "version": 3
   },
   "file_extension": ".py",
   "mimetype": "text/x-python",
   "name": "python",
   "nbconvert_exporter": "python",
   "pygments_lexer": "ipython3",
   "version": "3.9.15"
  }
 },
 "nbformat": 4,
 "nbformat_minor": 5
}
